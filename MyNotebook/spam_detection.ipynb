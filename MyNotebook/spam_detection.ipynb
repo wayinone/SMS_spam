{
 "cells": [
  {
   "cell_type": "markdown",
   "metadata": {},
   "source": [
    "## SMS Spam Detection\n",
    "#### 2017/8/8 Weiying Wang\n",
    "\n",
    "This is a complete guide of using language model to perform spam detection. The objective is straightforward: Given a labeled data, where one column is text message, and another column is the label: `spam` or `ham` (i.e. not spam), build a model to detect spam message. The data consists 5572 entries, and 13% of them are spam. The text will be featured using tf-idf.\n",
    "\n",
    "I will cover most of the machine learning tools, as you can see in the **table of content**. And compare them.\n",
    "\n",
    "The winner, here, is SVM, who gives acuracy **98.9%** and F1 score 0.957 on the 20% test set, LR, MNB(multinomial Naive Bayes), and RF, are slightly trailed behind.\n",
    "\n",
    "### Table of Content:\n",
    "\n",
    "#### 0. Import Data and Module\n",
    " \n",
    "#### 1. From Text To Features\n",
    " \n",
    "#### 2. Prediction\n",
    " \n",
    "    2.1 Support vector classifier\n",
    "    \n",
    "    2.2 Naive Bayes\n",
    "    \n",
    "    2.3 Decision Tree\n",
    "    \n",
    "    2.4 Logistic Regression\n",
    "    \n",
    "    2.5 Random Forest\n",
    "    \n",
    "    2.6 Adaboost\n",
    "    \n",
    "    2.7 Gradient Boost Machine (XGBoost)\n",
    "    \n",
    "#### 4. Comparison Between Models\n",
    "    \n",
    "    4.1 Accuracy and F1 Score\n",
    "    \n",
    "    4.2 Confusion Matrices\n",
    "    \n",
    "    4.3 Misclassified samples from SVM"
   ]
  },
  {
   "cell_type": "markdown",
   "metadata": {},
   "source": [
    "## 0. Import Data and Module"
   ]
  },
  {
   "cell_type": "code",
   "execution_count": 1,
   "metadata": {
    "collapsed": false
   },
   "outputs": [
    {
     "name": "stderr",
     "output_type": "stream",
     "text": [
      "C:\\WinPython-64bit-3.6.0.1Qt5\\python-3.6.0.amd64\\lib\\site-packages\\sklearn\\cross_validation.py:44: DeprecationWarning: This module was deprecated in version 0.18 in favor of the model_selection module into which all the refactored classes and functions are moved. Also note that the interface of the new CV iterators are different from that of this module. This module will be removed in 0.20.\n",
      "  \"This module will be removed in 0.20.\", DeprecationWarning)\n"
     ]
    }
   ],
   "source": [
    "import pandas as pd\n",
    "import numpy as np\n",
    "from sklearn.feature_extraction.text import TfidfVectorizer\n",
    "from sklearn.model_selection import train_test_split\n",
    "import string\n",
    "import matplotlib.pyplot as plt\n",
    "from sklearn.metrics import accuracy_score,f1_score\n",
    "from sklearn.metrics import confusion_matrix\n",
    "from sklearn.model_selection import cross_val_score\n",
    "\n",
    "from sklearn.svm import SVC\n",
    "from sklearn.naive_bayes import GaussianNB\n",
    "from sklearn.tree import DecisionTreeClassifier\n",
    "from sklearn.linear_model import LogisticRegression\n",
    "from sklearn.ensemble import RandomForestClassifier\n",
    "from sklearn.ensemble import AdaBoostClassifier\n",
    "import xgboost as xgb\n",
    "%matplotlib inline"
   ]
  },
  {
   "cell_type": "code",
   "execution_count": 2,
   "metadata": {
    "collapsed": false
   },
   "outputs": [
    {
     "data": {
      "text/html": [
       "<div>\n",
       "<table border=\"1\" class=\"dataframe\">\n",
       "  <thead>\n",
       "    <tr style=\"text-align: right;\">\n",
       "      <th></th>\n",
       "      <th>v1</th>\n",
       "      <th>v2</th>\n",
       "    </tr>\n",
       "  </thead>\n",
       "  <tbody>\n",
       "    <tr>\n",
       "      <th>5567</th>\n",
       "      <td>spam</td>\n",
       "      <td>This is the 2nd time we have tried 2 contact u...</td>\n",
       "    </tr>\n",
       "    <tr>\n",
       "      <th>5568</th>\n",
       "      <td>ham</td>\n",
       "      <td>Will Ì_ b going to esplanade fr home?</td>\n",
       "    </tr>\n",
       "    <tr>\n",
       "      <th>5569</th>\n",
       "      <td>ham</td>\n",
       "      <td>Pity, * was in mood for that. So...any other s...</td>\n",
       "    </tr>\n",
       "    <tr>\n",
       "      <th>5570</th>\n",
       "      <td>ham</td>\n",
       "      <td>The guy did some bitching but I acted like i'd...</td>\n",
       "    </tr>\n",
       "    <tr>\n",
       "      <th>5571</th>\n",
       "      <td>ham</td>\n",
       "      <td>Rofl. Its true to its name</td>\n",
       "    </tr>\n",
       "  </tbody>\n",
       "</table>\n",
       "</div>"
      ],
      "text/plain": [
       "        v1                                                 v2\n",
       "5567  spam  This is the 2nd time we have tried 2 contact u...\n",
       "5568   ham              Will Ì_ b going to esplanade fr home?\n",
       "5569   ham  Pity, * was in mood for that. So...any other s...\n",
       "5570   ham  The guy did some bitching but I acted like i'd...\n",
       "5571   ham                         Rofl. Its true to its name"
      ]
     },
     "execution_count": 2,
     "metadata": {},
     "output_type": "execute_result"
    }
   ],
   "source": [
    "df = pd.read_csv('../input/spam.csv', encoding='latin-1')\n",
    "df = df.loc[:,['v1','v2']]\n",
    "df.tail()"
   ]
  },
  {
   "cell_type": "markdown",
   "metadata": {},
   "source": [
    "Let's first transform column `v1`, where `ham=0`, `spam=1`."
   ]
  },
  {
   "cell_type": "code",
   "execution_count": 3,
   "metadata": {
    "collapsed": false
   },
   "outputs": [],
   "source": [
    "d={'spam':1,'ham':0}\n",
    "df.v1 = list(map(lambda x:d[x],df.v1))"
   ]
  },
  {
   "cell_type": "markdown",
   "metadata": {},
   "source": [
    "I will going to use nltk module, if this is your first time use nltk, please run the following in your Python environment:\n",
    "```\n",
    "import nltk\n",
    "nltk.download()\n",
    "```\n",
    "Then you can install all the requirement from the application interface."
   ]
  },
  {
   "cell_type": "markdown",
   "metadata": {},
   "source": [
    "## 1. From Text To Features\n",
    "\n",
    "I am going to use tf-idf model on the text. The text will be \n",
    "\n",
    "1. lower: No captal appeared.\n",
    "2. remove punctuation: No punctuation appeared.\n",
    "3. stemmed: collect similar words (i.e. `words` will be transformed to `word`,etc.)\n",
    "\n",
    "The convert the cleaned text to tf-idf features (5000 features for an entry)."
   ]
  },
  {
   "cell_type": "code",
   "execution_count": 4,
   "metadata": {
    "collapsed": false
   },
   "outputs": [],
   "source": [
    "import re\n",
    "from nltk.tokenize import word_tokenize\n",
    "from nltk.stem import PorterStemmer\n",
    "from sklearn.feature_extraction.text import TfidfVectorizer\n",
    "\n",
    "class stemmed_tfidf():\n",
    "    def __init__(self,max_features=5000):\n",
    "        self.ps = PorterStemmer()\n",
    "        self.vc = TfidfVectorizer(analyzer='word',#{‘word’, ‘char’}  Whether the feature should be made of word or character n-grams\n",
    "                             stop_words = 'english',\n",
    "                             max_features = max_features)\n",
    "    def tfidf(self,ListStr):\n",
    "        '''\n",
    "        return: sklearn.feature_extraction.text.TfidfVectorizer\n",
    "        '''\n",
    "        table = self.vc.fit_transform([self.stem_string(s) for s in ListStr])\n",
    "        return table\n",
    "    def stem_string(self,s):\n",
    "        '''\n",
    "        s:str, e.g. s = \"Get strings with string. With. Punctuation?\"\n",
    "        ps: stemmer from nltk module\n",
    "        return: bag of words.e.g. 'get string with string with punctuat'\n",
    "        '''    \n",
    "        s = re.sub(r'[^\\w\\s]',' ',s)# remove punctuation.\n",
    "        tokens = word_tokenize(s) # list of words.\n",
    "        #a = [w for w in tokens if not w in stopwords.words('english')]# remove common no meaning words\n",
    "        return ' '.join([self.ps.stem(w) for w in tokens])# e.g. 'desks'->'desk'"
   ]
  },
  {
   "cell_type": "code",
   "execution_count": 5,
   "metadata": {
    "collapsed": false
   },
   "outputs": [],
   "source": [
    "stf = stemmed_tfidf()\n",
    "feature = stf.tfidf(df.v2) # this will be a sparse matrix of size (n,5000)"
   ]
  },
  {
   "cell_type": "markdown",
   "metadata": {},
   "source": [
    "## 2. Prediction\n",
    "\n",
    "Before doing analysis, we have to decide the metric to compare between different models. The following calculate the percentage of spam data. As you can see, We have an inbalanced data set, in which only about 13% of the data is spam. The way to deal with it is to **increase their weight** (the spam samples) and **use F1 score** instead of accuracy."
   ]
  },
  {
   "cell_type": "code",
   "execution_count": 9,
   "metadata": {
    "collapsed": false
   },
   "outputs": [
    {
     "name": "stdout",
     "output_type": "stream",
     "text": [
      "13.41 percent of data is spam: We have an inbalanced data set.\n"
     ]
    }
   ],
   "source": [
    "print('%2.2f percent of data is spam: We have an inbalanced data set.'%round(100*sum(df.v1)/len(df),2))"
   ]
  },
  {
   "cell_type": "markdown",
   "metadata": {},
   "source": [
    "To be able to compare between models, we will separate the data set into training and test set. Also,some models requires paramter tunning, one must be careful that all the tunning (cross-validation) should be performed in the training set."
   ]
  },
  {
   "cell_type": "code",
   "execution_count": 10,
   "metadata": {
    "collapsed": false
   },
   "outputs": [],
   "source": [
    "Xtrain, Xtest, ytrain, ytest = train_test_split(feature, df.v1, test_size=0.2, random_state=1)"
   ]
  },
  {
   "cell_type": "markdown",
   "metadata": {},
   "source": [
    "I will going to use a lot of tools to analysis, and the results will be put into the folloing three dictionary."
   ]
  },
  {
   "cell_type": "code",
   "execution_count": 11,
   "metadata": {
    "collapsed": true
   },
   "outputs": [],
   "source": [
    "Acc = {}\n",
    "F1score = {}\n",
    "confusion_mat={}\n",
    "predictions = {}"
   ]
  },
  {
   "cell_type": "markdown",
   "metadata": {},
   "source": [
    "### 2.1 Support vector classifier\n",
    "\n",
    "Several caveat to use SVM:\n",
    "\n",
    "1. SVM is sensitive to scaling, which is not an issue here since tf-idf generated from `TfidfVectorizer` has already be normalized to 0 and 1.\n",
    "\n",
    "2. I will use 3-fold (default) cross validation to determine the two hyperparameter `C` anc `gamma`:\n",
    "\n",
    " a. `C`:lower C lead to underfitting, and higher C lead to overfit.\n",
    " \n",
    " b. `gamma`: parameter that controls `rbf`,`poly`, and `sigmoid` kernel. See [SVM document](http://scikit-learn.org/stable/modules/svm.html#svm-classification).\n",
    " \n",
    "The cross validation step is slow, let's split that into two cross validations."
   ]
  },
  {
   "cell_type": "code",
   "execution_count": 22,
   "metadata": {
    "collapsed": false
   },
   "outputs": [],
   "source": [
    "val_scores = []\n",
    "listc = np.linspace(0.5,3,num=4)\n",
    "listgamma = np.linspace(0.5,3,num=4)\n",
    "kernel = ['rbf','sigmoid']# 'poly' is doing bad here, let's save some time.\n",
    "for v in kernel:\n",
    "    for c in listc:\n",
    "        for gamma in listgamma:\n",
    "            svc = SVC(kernel=v, C=c, gamma=gamma,class_weight='balanced')\n",
    "            #3. The “balanced” mode uses the values of y to automatically adjust weights inversely \n",
    "            #   proportional to class frequencies in the input data as n_samples / (n_classes * np.bincount(y))\n",
    "            scores = cross_val_score(svc, Xtrain, ytrain,scoring='f1')\n",
    "            val_scores.append([np.mean(scores),v, c,gamma])"
   ]
  },
  {
   "cell_type": "code",
   "execution_count": 24,
   "metadata": {
    "collapsed": false
   },
   "outputs": [
    {
     "name": "stdout",
     "output_type": "stream",
     "text": [
      "The best scores happens on: [['sigmoid' '1.33333333333' '0.5']] , where F1 = ['0.921963729333']\n"
     ]
    }
   ],
   "source": [
    "val_scores = np.array(val_scores)\n",
    "print('The best scores happens on:',val_scores[val_scores[:,0]==max(val_scores[:,0]),1:],\n",
    "      ', where F1 =',val_scores[val_scores[:,0]==max(val_scores[:,0]),0])"
   ]
  },
  {
   "cell_type": "markdown",
   "metadata": {},
   "source": [
    "After this we see that `kernel='sigmoid', C=1.3, gamma=0.5]` gives best result in F1 (look at `val_score`). Let's continue to see if any refinement of `C` and `gamma` make it better."
   ]
  },
  {
   "cell_type": "code",
   "execution_count": 27,
   "metadata": {
    "collapsed": false
   },
   "outputs": [
    {
     "name": "stdout",
     "output_type": "stream",
     "text": [
      "The best scores happens on: [['sigmoid' '1.25' '0.825']] , where F1 = ['0.924973193278']\n"
     ]
    }
   ],
   "source": [
    "val_scores = []\n",
    "listc = np.linspace(0.5,2,num=5)\n",
    "listgamma = np.linspace(0.3,1,num=5)\n",
    "for c in listc:\n",
    "    for gamma in listgamma:\n",
    "        svc = SVC(kernel='sigmoid', C=c, gamma=gamma,class_weight='balanced')\n",
    "        scores = cross_val_score(svc, Xtrain, ytrain,scoring='f1')\n",
    "        val_scores.append([np.mean(scores),v, c,gamma])\n",
    "val_scores = np.array(val_scores)\n",
    "print('The best scores happens on:',val_scores[val_scores[:,0]==max(val_scores[:,0]),1:],\n",
    "      ', where F1 =',val_scores[val_scores[:,0]==max(val_scores[:,0]),0])"
   ]
  },
  {
   "cell_type": "markdown",
   "metadata": {},
   "source": [
    "After look at the `val_scores`, I decide to use `kernel='sigmoid', C=1.25, gamma=0.825]`, which gives the highest F1 score."
   ]
  },
  {
   "cell_type": "code",
   "execution_count": 28,
   "metadata": {
    "collapsed": false
   },
   "outputs": [
    {
     "name": "stdout",
     "output_type": "stream",
     "text": [
      "SVM: Accuracy=0.989, F1=0.957\n"
     ]
    }
   ],
   "source": [
    "name = 'SVM'\n",
    "svc = SVC(kernel='sigmoid', C=1.25, gamma=0.825,class_weight='balanced')\n",
    "svc.fit(Xtrain,ytrain)\n",
    "pred = svc.predict(Xtest.toarray())\n",
    "F1score[name]= f1_score(ytest,pred)\n",
    "Acc[name] = accuracy_score(ytest,pred)\n",
    "confusion_mat[name] = confusion_matrix(ytest,pred)\n",
    "predictions[name]=pred\n",
    "print(name+': Accuracy=%1.3f, F1=%1.3f'%(Acc[name],F1score[name]))"
   ]
  },
  {
   "cell_type": "markdown",
   "metadata": {},
   "source": [
    "### 2.2 Naive Bayes\n",
    "\n",
    "You probably heard that Naive Bayes (NB) works surprising well in the text classification. But you still need to be careful.\n",
    "\n",
    "Since our tf-idf feature is continuous (within 0 and 1), the probability model $P(x_k|y)$  for kth feature will be modeled as Gaussian, i.e. GDA. This will be a **bad idea** since our feature will not look like Gaussian (the value is within 0 and 1). Let's run it anyway, and after that I will tell you **a better way** to do it."
   ]
  },
  {
   "cell_type": "code",
   "execution_count": 223,
   "metadata": {
    "collapsed": false
   },
   "outputs": [
    {
     "data": {
      "text/plain": [
       "0.86483253588516751"
      ]
     },
     "execution_count": 223,
     "metadata": {},
     "output_type": "execute_result"
    }
   ],
   "source": [
    "GNB = GaussianNB()\n",
    "GNB.fit(Xtrain.toarray(), ytrain)# Since our Xtrain is a sparse matrix, need to use .toarray() to convert it to dense one.\n",
    "accuracy_score(ytest,GNB.predict(Xtest.toarray()))"
   ]
  },
  {
   "cell_type": "markdown",
   "metadata": {},
   "source": [
    "As you can see, it is not good. Let's use a better way, **multinominal Naive Bayes (MNB)**.\n",
    "\n",
    "Usually, to apply NB, people **quantize** the continuous feature value and model $P(x_k|y)$ as a multinominal distribution. So we are going to do that. The following gives a simple way to quantize an array, or list of array."
   ]
  },
  {
   "cell_type": "code",
   "execution_count": 214,
   "metadata": {
    "collapsed": false
   },
   "outputs": [
    {
     "data": {
      "text/plain": [
       "array([[0, 1, 2, 2],\n",
       "       [0, 1, 0, 2]], dtype=int64)"
      ]
     },
     "execution_count": 214,
     "metadata": {},
     "output_type": "execute_result"
    }
   ],
   "source": [
    "np.digitize([[0.1,0.22,0.33,0.8],[0.1,0.22,0.05,0.8]],bins = [.15,.25])"
   ]
  },
  {
   "cell_type": "code",
   "execution_count": 37,
   "metadata": {
    "collapsed": false
   },
   "outputs": [],
   "source": [
    "bins = [.2,.4,.6,.8] # so every feature will end up 0,1,2,3,4\n",
    "Xqtrain = np.digitize(Xtrain.toarray(),bins = bins)\n",
    "Xqtest = np.digitize(Xtest.toarray(),bins = bins)"
   ]
  },
  {
   "cell_type": "markdown",
   "metadata": {},
   "source": [
    "As SVM, there are tunning parameter in NB for using multinominal distribution here, called the Lapalace smoothing parameter,  `alpha`. Again, we use 3-fold cross validation to decide what `alpha` is."
   ]
  },
  {
   "cell_type": "code",
   "execution_count": 29,
   "metadata": {
    "collapsed": false
   },
   "outputs": [
    {
     "name": "stdout",
     "output_type": "stream",
     "text": [
      "The best scores happens on: [[ 0.27052632]] , where F1 = [ 0.93487703]\n"
     ]
    }
   ],
   "source": [
    "from sklearn.naive_bayes import MultinomialNB\n",
    "val_scores = []\n",
    "listalpha = np.linspace(0.01,1,num=20)\n",
    "for i in listalpha:\n",
    "    MNB = MultinomialNB(alpha=i)# alpha is Laplace smoothing parameter\n",
    "    scores = cross_val_score(MNB, Xtrain, ytrain,scoring='f1')\n",
    "    val_scores.append([np.mean(scores),i])\n",
    "val_scores = np.array(val_scores)\n",
    "print('The best scores happens on:',val_scores[val_scores[:,0]==max(val_scores[:,0]),1:],\n",
    "      ', where F1 =',val_scores[val_scores[:,0]==max(val_scores[:,0]),0])"
   ]
  },
  {
   "cell_type": "markdown",
   "metadata": {},
   "source": [
    "I will use `alpha = 0.27052632`, which gives the maximum F1 scores among all."
   ]
  },
  {
   "cell_type": "code",
   "execution_count": 30,
   "metadata": {
    "collapsed": false
   },
   "outputs": [
    {
     "name": "stdout",
     "output_type": "stream",
     "text": [
      "MNB: Accuracy=0.987, F1=0.949\n"
     ]
    }
   ],
   "source": [
    "name = 'MNB'\n",
    "MNB = MultinomialNB(alpha=0.27052632)\n",
    "MNB.fit(Xtrain,ytrain)\n",
    "pred = MNB.predict(Xtest.toarray())\n",
    "F1score[name]= f1_score(ytest,pred)\n",
    "Acc[name] = accuracy_score(ytest,pred)\n",
    "confusion_mat[name] = confusion_matrix(ytest,pred)\n",
    "predictions[name]=pred\n",
    "print(name+': Accuracy=%1.3f, F1=%1.3f'%(Acc[name],F1score[name]))"
   ]
  },
  {
   "cell_type": "markdown",
   "metadata": {},
   "source": [
    "This result is much better than using Gaussian NB."
   ]
  },
  {
   "cell_type": "markdown",
   "metadata": {},
   "source": [
    "### 2.3 Decision Tree\n",
    "\n",
    "Decistion Tree(DT) is one of the baseline model for classification. Since it doesn't require scaling, and no need to worry about multicollinearity, it is very easy to apply.\n",
    "\n",
    "Basically, DT binary splits one of the feature (optimally selected) in each iteration, this partitions feature space. After several iteration, we have a lot of partition in the feature space. The algorithm will first overfit the sample, then use some criterion to 'pruning' the overfitted tree.\n",
    "\n",
    "An advanced version of DT will be method that use ensumble, i.e. Adaboost, Random Forest, and Gradient Boost Machine, there basic learner are (almost all) DT.\n",
    "\n",
    "One of the important parameter of DT is `min_samples_split`, an interger value>=1, which determine the sample size in the smallest leaf. We are going to use cross validation to determine that."
   ]
  },
  {
   "cell_type": "code",
   "execution_count": 31,
   "metadata": {
    "collapsed": false
   },
   "outputs": [
    {
     "name": "stdout",
     "output_type": "stream",
     "text": [
      "The best scores happens on: [[ 4.]] , where F1 = [ 0.83111103]\n"
     ]
    }
   ],
   "source": [
    "val_scores = []\n",
    "for i in range(2,21):\n",
    "    DT = DecisionTreeClassifier(min_samples_split=i, random_state=1,class_weight='balanced')\n",
    "    scores = cross_val_score(DT, Xtrain, ytrain,scoring='f1')\n",
    "    val_scores.append([np.mean(scores),i])\n",
    "val_scores = np.array(val_scores)\n",
    "print('The best scores happens on:',val_scores[val_scores[:,0]==max(val_scores[:,0]),1:],\n",
    "      ', where F1 =',val_scores[val_scores[:,0]==max(val_scores[:,0]),0])"
   ]
  },
  {
   "cell_type": "markdown",
   "metadata": {},
   "source": [
    "So, I will use `min_samples_split=4`, which gives best F1 score during cross validataion, to run the test set."
   ]
  },
  {
   "cell_type": "code",
   "execution_count": 32,
   "metadata": {
    "collapsed": false
   },
   "outputs": [
    {
     "name": "stdout",
     "output_type": "stream",
     "text": [
      "DT: Accuracy=0.968, F1=0.878\n"
     ]
    }
   ],
   "source": [
    "name = 'DT'\n",
    "DT = DecisionTreeClassifier(min_samples_split=4, random_state=1,class_weight='balanced')\n",
    "DT.fit(Xtrain,ytrain)\n",
    "pred = DT.predict(Xtest.toarray())\n",
    "F1score[name]= f1_score(ytest,pred)\n",
    "Acc[name] = accuracy_score(ytest,pred)\n",
    "confusion_mat[name] = confusion_matrix(ytest,pred)\n",
    "predictions[name]=pred\n",
    "print(name+': Accuracy=%1.3f, F1=%1.3f'%(Acc[name],F1score[name]))"
   ]
  },
  {
   "cell_type": "markdown",
   "metadata": {},
   "source": [
    "### 2.4 Logistic Regression\n",
    "\n",
    "The most famous model for classification, one of the baseline model. One needs to be care about:\n",
    " \n",
    " 1. If there is multicoliearity, it will affect LR. Since it calculate inverse of (X'X) in the algorithm and strong multicolinearity will make the matrix ill-condition.\n",
    " \n",
    " 2. To prevent overfitting, one usually puts L1 or L2 regularity here. A parameter `C` will help control overfit or not. Smaller `C` leads to underfit and vise versa."
   ]
  },
  {
   "cell_type": "code",
   "execution_count": 33,
   "metadata": {
    "collapsed": false
   },
   "outputs": [
    {
     "name": "stdout",
     "output_type": "stream",
     "text": [
      "The best scores happens on: [['l2' '0.863157894737']] , where F1 = ['0.912843500453']\n"
     ]
    }
   ],
   "source": [
    "list_C = np.linspace(0.1,3,num=20)\n",
    "val_scores = []\n",
    "for p in ('l1','l2'):\n",
    "    for c in list_C:\n",
    "        LR = LogisticRegression(penalty=p,C=c,class_weight='balanced')\n",
    "        scores = cross_val_score(LR, Xtrain, ytrain,scoring='f1')\n",
    "        val_scores.append([np.mean(scores),p,c])\n",
    "val_scores = np.array(val_scores)\n",
    "print('The best scores happens on:',val_scores[val_scores[:,0]==max(val_scores[:,0]),1:],\n",
    "      ', where F1 =',val_scores[val_scores[:,0]==max(val_scores[:,0]),0])            "
   ]
  },
  {
   "cell_type": "markdown",
   "metadata": {},
   "source": [
    "Let's use the parameter `penalty='l2',C=0.863157894737`"
   ]
  },
  {
   "cell_type": "code",
   "execution_count": 34,
   "metadata": {
    "collapsed": false
   },
   "outputs": [
    {
     "name": "stdout",
     "output_type": "stream",
     "text": [
      "LR: Accuracy=0.987, F1=0.950\n"
     ]
    }
   ],
   "source": [
    "name = 'LR'\n",
    "LR = LogisticRegression(penalty='l2',C=0.863157894737,class_weight='balanced')\n",
    "LR.fit(Xtrain,ytrain)\n",
    "pred = LR.predict(Xtest)\n",
    "F1score[name]= f1_score(ytest,pred)\n",
    "Acc[name] = accuracy_score(ytest,pred)\n",
    "confusion_mat[name] = confusion_matrix(ytest,pred)\n",
    "predictions[name]=pred\n",
    "print(name+': Accuracy=%1.3f, F1=%1.3f'%(Acc[name],F1score[name]))"
   ]
  },
  {
   "cell_type": "markdown",
   "metadata": {},
   "source": [
    "### 2.5 Random Forest\n",
    "\n",
    "Random Forest(RF) is a very popular method. Basically, it will generate several boostrap samples (the number is `n_estimator`, as you will see, the higher of this, the better), and with the boostrap sample, it generate a decision tree. The subtlety is that when deciding the split, it chooses from **subsets** of features to split the tree (This will help prevent overfitting, for example, think about doing some mathematic problem without using some big theorems, if you learn this technique, you will be, or maybe, clever on different kind of harsh environment.) \n",
    "\n",
    "So in the end you will get `n_estimator` of trees. The final decision can be made by majority vote from them."
   ]
  },
  {
   "cell_type": "code",
   "execution_count": 35,
   "metadata": {
    "collapsed": false
   },
   "outputs": [
    {
     "name": "stdout",
     "output_type": "stream",
     "text": [
      "RF: Accuracy=0.989, F1=0.956\n"
     ]
    }
   ],
   "source": [
    "name = 'RF'\n",
    "RF = RandomForestClassifier(n_estimators =80,class_weight ='balanced')\n",
    "RF.fit(Xtrain,ytrain)\n",
    "pred = RF.predict(Xtest)\n",
    "F1score[name]= f1_score(ytest,pred)\n",
    "Acc[name] = accuracy_score(ytest,pred)\n",
    "confusion_mat[name] = confusion_matrix(ytest,pred)\n",
    "predictions[name]=pred\n",
    "print(name+': Accuracy=%1.3f, F1=%1.3f'%(Acc[name],F1score[name]))"
   ]
  },
  {
   "cell_type": "markdown",
   "metadata": {},
   "source": [
    "### 2.6 Adaboost\n",
    "\n",
    "Adaboost is probably the first way using boostrap to enhance the model. The procedure can be described as: given a uniform weight $$w = (w_1,...,w_1)$$\n",
    "\n",
    "1. Re-sampling a sample set from training set according to the weight w.\n",
    "\n",
    "2. Use tree (default) or other method to induce a classification rule, say $$f_{m}(x).$$\n",
    "\n",
    "3. Estimate the training error rate by $$\\epsilon_{m}\\propto\\sum_{i=1}^{n}w_{i}\\mathbb{I}_{\\{y_{i}\\neq f_m(x_{i})\\}}.$$\n",
    "\n",
    "4. For i in correct index set, put the weight down by $$w_{i}=w_{i}\\cdot\\frac{\\epsilon_{m}}{1-\\epsilon_{m}}.$$ And normalize the weight, so that incorrect sample will receive higher weight next time.\n",
    "\n",
    "Repeat 1,2,3,4 for M times, and get M rules,say $$f_{1},\\cdots,f_{M}$$. The final master rule is $$sign[\\sum_{m=1}^{M}\\beta_{m}f_{m}(x)],$$ where $$\\beta_{m}=\\log(\\frac{1-\\epsilon_{m}}{\\epsilon_{m}}).$$ \n",
    "\n",
    "Briefly speaking, \n",
    "\n",
    "1. the hard to classified entries will receive more weight when preforming the next boostrap (so they will tend to be drawn more often next time).\n",
    "\n",
    "2. the weak learner will receive smaller weight when doing the majority vote in the end."
   ]
  },
  {
   "cell_type": "code",
   "execution_count": 36,
   "metadata": {
    "collapsed": false
   },
   "outputs": [
    {
     "name": "stdout",
     "output_type": "stream",
     "text": [
      "AdaBoost: Accuracy=0.984, F1=0.932\n"
     ]
    }
   ],
   "source": [
    "name = 'AdaBoost'\n",
    "Ada = AdaBoostClassifier(n_estimators=80, random_state=1)\n",
    "Ada.fit(Xtrain,ytrain)\n",
    "pred = Ada.predict(Xtest)\n",
    "F1score[name]= f1_score(ytest,pred)\n",
    "Acc[name] = accuracy_score(ytest,pred)\n",
    "confusion_mat[name] = confusion_matrix(ytest,pred)\n",
    "predictions[name]=pred\n",
    "print(name+': Accuracy=%1.3f, F1=%1.3f'%(Acc[name],F1score[name]))"
   ]
  },
  {
   "cell_type": "markdown",
   "metadata": {},
   "source": [
    "### 2.7 Gradient Boost Machine\n",
    "\n",
    "The Gradient Boost Machine (GBM) is basically:\n",
    "\n",
    "1. Let fT=0\n",
    "\n",
    "2. Obtain a boostrap sample set from $$(x_{i},y_{i})_{i=1}^{n}$$\n",
    "\n",
    "2. Using the Boostrap sample set to build **binary tree** till a certain depth (parameter `max_depth`). The tree is denote as f, or say f(x).\n",
    "\n",
    "3. Update fT, i.e. fT = fT + f.\n",
    "\n",
    "4. repeat step 1 again.\n",
    "\n",
    "And use the final tree fT to do the classification. Note that in step 2, we use binary tree so there is no need to rescale feature values. And no need to worry about multicollinearity. Also note that, in step 3, it renders an **additive** model, where the difficult samples will receive higher weight (inherently) in the next iteration.\n",
    "\n",
    "The following gives the code for doing cross validataion on XGBoost, a faster and more efficient version of GBM. Note that I didn't try a lot of parameters since it would take too long. Note that it might not give GBM a fair fight here by not finding best parameters here."
   ]
  },
  {
   "cell_type": "code",
   "execution_count": 38,
   "metadata": {
    "collapsed": false
   },
   "outputs": [
    {
     "name": "stdout",
     "output_type": "stream",
     "text": [
      "The best scores happens on: [[   9.     0.8  118. ]] , where accuracy = [ 0.02603833]\n"
     ]
    }
   ],
   "source": [
    "data_tr  = xgb.DMatrix(Xtrain, label=ytrain)\n",
    "val_scores = []\n",
    "list_max_depth =[6,9,14]\n",
    "list_subsample = [0.8,1]\n",
    "for max_depth in list_max_depth:\n",
    "    for subsample in list_subsample:\n",
    "        parms = {'max_depth':max_depth, #maximum depth of a tree\n",
    "                 'objective':'binary:logistic',\n",
    "                 'eta'      :0.1,\n",
    "                 'subsample':subsample,#SGD will use this percentage of data\n",
    "                 'lambda '  :1.5, #L2 regularization term,>1 more conservative\n",
    "                 'colsample_bytree ':0.8,\n",
    "                 'nthread'  :3}  #number of cpu core to use\n",
    "        result = xgb.cv(parms, data_tr, \n",
    "                            num_boost_round=1000,\n",
    "                            early_stopping_rounds=20,# early stop if cv result is not improving\n",
    "                            nfold=3,metrics=\"error\")\n",
    "        val_scores.append([result['test-error-mean'].iloc[-1],max_depth,subsample,len(result)-20])\n",
    "        #len(result) will be our num_boot_round in the test set\n",
    "val_scores = np.array(val_scores)\n",
    "print('The best scores happens on:',val_scores[val_scores[:,0]==min(val_scores[:,0]),1:],\n",
    "      ', where accuracy =',val_scores[val_scores[:,0]==min(val_scores[:,0]),0])"
   ]
  },
  {
   "cell_type": "markdown",
   "metadata": {},
   "source": [
    "Let's using the parameter that produce the smallest error. Note that don't apply early stop on the test set, since the `num_boost_round` should only be decided in the training data."
   ]
  },
  {
   "cell_type": "code",
   "execution_count": 39,
   "metadata": {
    "collapsed": false
   },
   "outputs": [],
   "source": [
    "data_tr  = xgb.DMatrix(Xtrain, label=ytrain)\n",
    "data_val  = xgb.DMatrix(Xtest, label=ytest)\n",
    "evallist = [(data_tr, 'train'), (data_val, 'test')]\n",
    "\n",
    "parms = {'max_depth':9, #maximum depth of a tree\n",
    "         'objective':'binary:logistic',\n",
    "         'eta'      :0.1,\n",
    "         'subsample':0.8,#SGD will use this percentage of data\n",
    "         'lambda '  :1.5, #L2 regularization term,>1 more conservative\n",
    "         'colsample_bytree ':0.8,\n",
    "         'nthread'  :3}  #number of cpu core to use\n",
    "\n",
    "GBM = xgb.train(parms, data_tr, num_boost_round=118, evals = evallist,\n",
    "                maximize=False, verbose_eval=False)"
   ]
  },
  {
   "cell_type": "code",
   "execution_count": 40,
   "metadata": {
    "collapsed": false
   },
   "outputs": [
    {
     "name": "stdout",
     "output_type": "stream",
     "text": [
      "GBM: Accuracy=0.984, F1=0.935\n"
     ]
    }
   ],
   "source": [
    "name = 'GBM'\n",
    "pred = GBM.predict(xgb.DMatrix(Xtest)) # note that this is float value between 0 and 1. This is the probability of y=1.\n",
    "pred = [int(round(p)) for p in pred]\n",
    "F1score[name]= f1_score(ytest,pred)\n",
    "Acc[name] = accuracy_score(ytest,pred)\n",
    "confusion_mat[name] = confusion_matrix(ytest,pred)\n",
    "predictions[name]=pred\n",
    "print(name+': Accuracy=%1.3f, F1=%1.3f'%(Acc[name],F1score[name]))"
   ]
  },
  {
   "cell_type": "markdown",
   "metadata": {},
   "source": [
    "Let's save the result for latter use."
   ]
  },
  {
   "cell_type": "code",
   "execution_count": 42,
   "metadata": {
    "collapsed": false
   },
   "outputs": [
    {
     "data": {
      "text/plain": [
       "\"\\nimport pickle\\nwith open('spam_result.pickle', 'wb') as handle:\\n    pickle.dump([Acc,F1score,confusion_mat,predictions], handle, protocol=pickle.HIGHEST_PROTOCOL)\\n\""
      ]
     },
     "execution_count": 42,
     "metadata": {},
     "output_type": "execute_result"
    }
   ],
   "source": [
    "'''\n",
    "import pickle\n",
    "with open('spam_result.pickle', 'wb') as handle:\n",
    "    pickle.dump([Acc,F1score,confusion_mat,predictions], handle, protocol=pickle.HIGHEST_PROTOCOL)\n",
    "'''"
   ]
  },
  {
   "cell_type": "markdown",
   "metadata": {},
   "source": [
    "## 4. Comparison Between Models"
   ]
  },
  {
   "cell_type": "code",
   "execution_count": 46,
   "metadata": {
    "collapsed": false
   },
   "outputs": [],
   "source": [
    "'''import pickle\n",
    "with open('spam_result.pickle', 'rb') as handle:\n",
    "    b = pickle.load(handle)\n",
    "Acc,F1score,confusion_mat,predictions = b[0],b[1],b[2],b[3]\n",
    "'''"
   ]
  },
  {
   "cell_type": "markdown",
   "metadata": {},
   "source": [
    "### 4.1 Accuracy and F1 Score"
   ]
  },
  {
   "cell_type": "code",
   "execution_count": 125,
   "metadata": {
    "collapsed": false
   },
   "outputs": [
    {
     "data": {
      "image/png": "[encoded data removed]",
      "text/plain": [
       "<matplotlib.figure.Figure at 0x20336e18780>"
      ]
     },
     "metadata": {},
     "output_type": "display_data"
    }
   ],
   "source": [
    "Results = pd.DataFrame([v for v in Acc.values()], columns = ['Acc'],\n",
    "                    index = [k for k in Acc.keys()])\n",
    "Results = Results.assign(F1_score=[v for v in F1score.values()])\n",
    "\n",
    "fig = plt.figure(figsize=(16,5))\n",
    "ylim = [[0.96,1],[0.8,1]]\n",
    "x_offset = -0.35; y_offset = 0.001\n",
    "for i,(a,yl) in enumerate(zip(list(Results.keys()),ylim)):\n",
    "    plt.subplot(1,2,i+1)\n",
    "    Results[a].plot(kind='bar')\n",
    "    plt.ylabel(a); plt.ylim(yl)\n",
    "    for p in plt.gca().patches:\n",
    "        b = p.get_bbox()\n",
    "        val = \"{:1.4f}\".format(b.y1 + b.y0)        \n",
    "        plt.gca().annotate(val, ((b.x0 + b.x1)/2 + x_offset, b.y1 + y_offset))\n"
   ]
  },
  {
   "cell_type": "markdown",
   "metadata": {},
   "source": [
    "As we can see SVM gives a very good Accuracy and F1 score on the test set, LR,MNB, and RF, are slightly trail behind.\n",
    "\n",
    "### 4.2 Confusion Matrices\n",
    "\n",
    "The following code, obtained from [scikit](http://scikit-learn.org/stable/auto_examples/model_selection/plot_confusion_matrix.html) webpage, plots the confusion matrix."
   ]
  },
  {
   "cell_type": "code",
   "execution_count": 197,
   "metadata": {
    "collapsed": false
   },
   "outputs": [],
   "source": [
    "import itertools\n",
    "def plot_confusion_matrix(cm, classes,\n",
    "                          normalize=False,\n",
    "                          title='Confusion matrix',\n",
    "                          cmap=plt.cm.Blues):\n",
    "    \"\"\"\n",
    "    This function prints and plots the confusion matrix.\n",
    "    Normalization can be applied by setting `normalize=True`.\n",
    "    \"\"\"\n",
    "    plt.imshow(cm, interpolation='nearest', cmap=cmap)\n",
    "    plt.title(title)\n",
    "    #plt.colorbar()\n",
    "    tick_marks = np.arange(len(classes))\n",
    "    plt.xticks(tick_marks, classes, rotation=45)\n",
    "    plt.yticks(tick_marks, classes)\n",
    "\n",
    "    if normalize:\n",
    "        cm = cm.astype('float') / cm.sum(axis=1)[:, np.newaxis]\n",
    "    thresh = cm.max() / 2.\n",
    "    for i, j in itertools.product(range(cm.shape[0]), range(cm.shape[1])):\n",
    "        plt.text(j, i, round(cm[i, j],4),\n",
    "                 horizontalalignment=\"center\",\n",
    "                 color=\"white\" if cm[i, j] > thresh else \"black\")\n",
    "\n",
    "    plt.tight_layout();plt.ylabel('True label');plt.xlabel('Predicted label')"
   ]
  },
  {
   "cell_type": "code",
   "execution_count": 198,
   "metadata": {
    "collapsed": false
   },
   "outputs": [
    {
     "data": {
      "image/png": "[encoded data removed]",
      "text/plain": [
       "<matplotlib.figure.Figure at 0x2033ab87c18>"
      ]
     },
     "metadata": {},
     "output_type": "display_data"
    }
   ],
   "source": [
    "fig = plt.figure(figsize=(18,16))\n",
    "i=1\n",
    "for key,val in confusion_mat.items():\n",
    "    plt.subplot(3,3,i);i+=1\n",
    "    plot_confusion_matrix(val, classes=['ham','spams'], normalize=False,\n",
    "                      title=key)"
   ]
  },
  {
   "cell_type": "markdown",
   "metadata": {},
   "source": [
    "### 4.3 Misclassified samples from SVM\n",
    "\n",
    "The following code shows the miss-classified text message (model SVM). I can tell some of them are spam, like entry 3528. I guess there is still some place to do better."
   ]
  },
  {
   "cell_type": "code",
   "execution_count": 190,
   "metadata": {
    "collapsed": false
   },
   "outputs": [
    {
     "data": {
      "text/html": [
       "<div>\n",
       "<table border=\"1\" class=\"dataframe\">\n",
       "  <thead>\n",
       "    <tr style=\"text-align: right;\">\n",
       "      <th></th>\n",
       "      <th>v1</th>\n",
       "      <th>v2</th>\n",
       "    </tr>\n",
       "  </thead>\n",
       "  <tbody>\n",
       "    <tr>\n",
       "      <th>325</th>\n",
       "      <td>0</td>\n",
       "      <td>No calls..messages..missed calls</td>\n",
       "    </tr>\n",
       "    <tr>\n",
       "      <th>3528</th>\n",
       "      <td>1</td>\n",
       "      <td>Xmas &amp; New Years Eve tickets are now on sale f...</td>\n",
       "    </tr>\n",
       "    <tr>\n",
       "      <th>386</th>\n",
       "      <td>0</td>\n",
       "      <td>Customer place i will call you.</td>\n",
       "    </tr>\n",
       "    <tr>\n",
       "      <th>4247</th>\n",
       "      <td>1</td>\n",
       "      <td>accordingly. I repeat, just text the word ok o...</td>\n",
       "    </tr>\n",
       "    <tr>\n",
       "      <th>3417</th>\n",
       "      <td>1</td>\n",
       "      <td>LIFE has never been this much fun and great un...</td>\n",
       "    </tr>\n",
       "    <tr>\n",
       "      <th>2773</th>\n",
       "      <td>1</td>\n",
       "      <td>How come it takes so little time for a child w...</td>\n",
       "    </tr>\n",
       "    <tr>\n",
       "      <th>45</th>\n",
       "      <td>0</td>\n",
       "      <td>No calls..messages..missed calls</td>\n",
       "    </tr>\n",
       "    <tr>\n",
       "      <th>416</th>\n",
       "      <td>0</td>\n",
       "      <td>Alright i have a new goal now</td>\n",
       "    </tr>\n",
       "    <tr>\n",
       "      <th>2950</th>\n",
       "      <td>0</td>\n",
       "      <td>Hey now am free you can call me.</td>\n",
       "    </tr>\n",
       "    <tr>\n",
       "      <th>4071</th>\n",
       "      <td>1</td>\n",
       "      <td>Loans for any purpose even if you have Bad Cre...</td>\n",
       "    </tr>\n",
       "    <tr>\n",
       "      <th>2429</th>\n",
       "      <td>1</td>\n",
       "      <td>Guess who am I?This is the first time I create...</td>\n",
       "    </tr>\n",
       "    <tr>\n",
       "      <th>494</th>\n",
       "      <td>0</td>\n",
       "      <td>Are you free now?can i call now?</td>\n",
       "    </tr>\n",
       "  </tbody>\n",
       "</table>\n",
       "</div>"
      ],
      "text/plain": [
       "      v1                                                 v2\n",
       "325    0                   No calls..messages..missed calls\n",
       "3528   1  Xmas & New Years Eve tickets are now on sale f...\n",
       "386    0                    Customer place i will call you.\n",
       "4247   1  accordingly. I repeat, just text the word ok o...\n",
       "3417   1  LIFE has never been this much fun and great un...\n",
       "2773   1  How come it takes so little time for a child w...\n",
       "45     0                   No calls..messages..missed calls\n",
       "416    0                      Alright i have a new goal now\n",
       "2950   0                   Hey now am free you can call me.\n",
       "4071   1  Loans for any purpose even if you have Bad Cre...\n",
       "2429   1  Guess who am I?This is the first time I create...\n",
       "494    0                   Are you free now?can i call now?"
      ]
     },
     "execution_count": 190,
     "metadata": {},
     "output_type": "execute_result"
    }
   ],
   "source": [
    "missclassified = np.nonzero(pred!=ytest)[0]\n",
    "ind_miss = ytest.index[missclassified]\n",
    "df.iloc[ind_miss,:]"
   ]
  }
 ],
 "metadata": {
  "kernelspec": {
   "display_name": "Python 3",
   "language": "python",
   "name": "python3"
  },
  "language_info": {
   "codemirror_mode": {
    "name": "ipython",
    "version": 3
   },
   "file_extension": ".py",
   "mimetype": "text/x-python",
   "name": "python",
   "nbconvert_exporter": "python",
   "pygments_lexer": "ipython3",
   "version": "3.6.0"
  }
 },
 "nbformat": 4,
 "nbformat_minor": 2
}
